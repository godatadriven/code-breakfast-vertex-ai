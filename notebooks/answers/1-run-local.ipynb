{
 "cells": [
  {
   "cell_type": "markdown",
   "metadata": {},
   "source": [
    "## Running locally - Answers\n",
    "\n",
    "Training the model for exercise 1:"
   ]
  },
  {
   "cell_type": "code",
   "execution_count": null,
   "metadata": {},
   "outputs": [],
   "source": [
    "# Copy training data locally (run once).\n",
    "! mkdir -p ~/tmp/fashion\n",
    "! gsutil cp -r gs://gdd-cb-vertex-fashion-inputs/train ~/tmp/fashion"
   ]
  },
  {
   "cell_type": "code",
   "execution_count": null,
   "metadata": {},
   "outputs": [],
   "source": [
    "from fancy_fashion.model import train_model\n",
    "\n",
    "model = train_model(\"/home/jupyter/tmp/fashion/train\")"
   ]
  },
  {
   "cell_type": "markdown",
   "metadata": {},
   "source": [
    "Evaluating the model for exercise 2:"
   ]
  },
  {
   "cell_type": "code",
   "execution_count": null,
   "metadata": {},
   "outputs": [],
   "source": [
    "# Copy test data locally (run once).\n",
    "! mkdir -p ~/tmp/fashion\n",
    "! gsutil cp -r gs://gdd-cb-vertex-fashion-inputs/test ~/tmp/fashion"
   ]
  },
  {
   "cell_type": "code",
   "execution_count": null,
   "metadata": {},
   "outputs": [],
   "source": [
    "from fancy_fashion.model import evaluate_model\n",
    "\n",
    "loss, accuracy = evaluate_model(model, \"/home/jupyter/tmp/fashion/train\")"
   ]
  },
  {
   "cell_type": "markdown",
   "metadata": {},
   "source": [
    "Generating predictions for exercise 3:"
   ]
  },
  {
   "cell_type": "code",
   "execution_count": null,
   "metadata": {},
   "outputs": [],
   "source": [
    "# Copy validation data locally (run once).\n",
    "! mkdir -p ~/tmp/fashion\n",
    "! gsutil cp -r gs://gdd-cb-vertex-fashion-inputs/validation ~/tmp/fashion"
   ]
  },
  {
   "cell_type": "code",
   "execution_count": null,
   "metadata": {},
   "outputs": [],
   "source": [
    "import pandas as pd\n",
    "from fancy_fashion.model import generate_predictions\n",
    "\n",
    "predictions = generate_predictions(model, \"/home/jupyter/tmp/fashion/validation\")\n",
    "pd.DataFrame.from_records(predictions)"
   ]
  }
 ],
 "metadata": {
  "interpreter": {
   "hash": "b31a1157ff87d8f3b769f2578b589bc4be18b32e8ba7e750b8fb43ec98b328f9"
  },
  "kernelspec": {
   "display_name": "Python 3.9.9 ('.venv': poetry)",
   "language": "python",
   "name": "python3"
  },
  "language_info": {
   "codemirror_mode": {
    "name": "ipython",
    "version": 3
   },
   "file_extension": ".py",
   "mimetype": "text/x-python",
   "name": "python",
   "nbconvert_exporter": "python",
   "pygments_lexer": "ipython3",
   "version": "3.9.9"
  }
 },
 "nbformat": 4,
 "nbformat_minor": 2
}
