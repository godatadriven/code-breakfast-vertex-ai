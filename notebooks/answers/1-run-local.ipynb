{
 "cells": [
  {
   "cell_type": "markdown",
   "metadata": {},
   "source": [
    "## Running locally - Answers\n"
   ]
  },
  {
   "cell_type": "code",
   "execution_count": null,
   "metadata": {},
   "outputs": [],
   "source": [
    "# Set up some required variables.\n",
    "PROJECT_ID = \"gdd-vertex\""
   ]
  },
  {
   "cell_type": "markdown",
   "metadata": {},
   "source": [
    "Training the model for exercise 1:"
   ]
  },
  {
   "cell_type": "code",
   "execution_count": null,
   "metadata": {},
   "outputs": [],
   "source": [
    "# Copy training data locally (run once).\n",
    "! mkdir -p ~/tmp/fashion\n",
    "! gsutil cp -r {PROJECT_ID}-fashion-inputs/train ~/tmp/fashion"
   ]
  },
  {
   "cell_type": "code",
   "execution_count": null,
   "metadata": {},
   "outputs": [],
   "source": [
    "from fancy_fashion.model import train_model\n",
    "\n",
    "model = train_model(\"/home/jupyter/tmp/fashion/train\")"
   ]
  },
  {
   "cell_type": "markdown",
   "metadata": {},
   "source": [
    "Evaluating the model for exercise 2:"
   ]
  },
  {
   "cell_type": "code",
   "execution_count": null,
   "metadata": {},
   "outputs": [],
   "source": [
    "# Copy test data locally (run once).\n",
    "! mkdir -p ~/tmp/fashion\n",
    "! gsutil cp -r {PROJECT_ID}-fashion-inputs/test ~/tmp/fashion"
   ]
  },
  {
   "cell_type": "code",
   "execution_count": null,
   "metadata": {},
   "outputs": [],
   "source": [
    "from fancy_fashion.model import evaluate_model\n",
    "\n",
    "loss, accuracy = evaluate_model(model, \"/home/jupyter/tmp/fashion/train\")"
   ]
  },
  {
   "cell_type": "markdown",
   "metadata": {},
   "source": [
    "Generating predictions for exercise 3:"
   ]
  },
  {
   "cell_type": "code",
   "execution_count": null,
   "metadata": {},
   "outputs": [],
   "source": [
    "# Copy validation data locally (run once).\n",
    "! mkdir -p ~/tmp/fashion\n",
    "! gsutil cp -r {PROJECT_ID}-fashion-inputs/validation ~/tmp/fashion"
   ]
  },
  {
   "cell_type": "code",
   "execution_count": null,
   "metadata": {},
   "outputs": [],
   "source": [
    "import pandas as pd\n",
    "from fancy_fashion.model import generate_predictions\n",
    "\n",
    "predictions = generate_predictions(model, \"/home/jupyter/tmp/fashion/validation\")\n",
    "pd.DataFrame.from_records(predictions)"
   ]
  }
 ],
 "metadata": {
  "environment": {
   "kernel": "poetry-kernel",
   "name": "common-cpu.m93",
   "type": "gcloud",
   "uri": "gcr.io/deeplearning-platform-release/base-cpu:m93"
  },
  "interpreter": {
   "hash": "b31a1157ff87d8f3b769f2578b589bc4be18b32e8ba7e750b8fb43ec98b328f9"
  },
  "kernelspec": {
   "display_name": "Poetry",
   "language": "python",
   "name": "poetry-kernel"
  },
  "language_info": {
   "codemirror_mode": {
    "name": "ipython",
    "version": 3
   },
   "file_extension": ".py",
   "mimetype": "text/x-python",
   "name": "python",
   "nbconvert_exporter": "python",
   "pygments_lexer": "ipython3",
   "version": "3.9.9"
  }
 },
 "nbformat": 4,
 "nbformat_minor": 4
}
