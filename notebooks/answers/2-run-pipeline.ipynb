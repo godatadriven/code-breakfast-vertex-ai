{
 "cells": [
  {
   "cell_type": "markdown",
   "metadata": {},
   "source": [
    "## Running in Vertex Pipelines - Answers\n",
    "\n",
    "Building the Docker container for exercise 1:"
   ]
  },
  {
   "cell_type": "code",
   "execution_count": null,
   "metadata": {},
   "outputs": [],
   "source": [
    "USER_NAME = \"julian\"\n",
    "! make -C ../../ USER_NAME=$USER_NAME docker-push"
   ]
  },
  {
   "cell_type": "markdown",
   "metadata": {},
   "source": [
    "Building and running full pipeline for exercises 2 + 3:"
   ]
  },
  {
   "cell_type": "code",
   "execution_count": null,
   "metadata": {},
   "outputs": [],
   "source": [
    "! mkdir -p _artifacts"
   ]
  },
  {
   "cell_type": "code",
   "execution_count": null,
   "metadata": {},
   "outputs": [],
   "source": [
    "from typing import NamedTuple\n",
    "\n",
    "import kfp\n",
    "\n",
    "from kfp.v2.dsl import (\n",
    "    component,\n",
    "    Input,\n",
    "    InputPath,\n",
    "    OutputPath,\n",
    "    Output,\n",
    "    Dataset,\n",
    "    Metrics,\n",
    "    Model\n",
    ")\n",
    "\n",
    "GCP_REGION = \"europe-west3\"\n",
    "\n",
    "@component(\n",
    "    base_image=f\"{GCP_REGION}-docker.pkg.dev/gdd-cb-vertex/docker/fancy-fashion-{USER_NAME}\",\n",
    "    output_component_file=\"_artifacts/train.yaml\",\n",
    ")\n",
    "def train(train_data_path: str, model: Output[Model]) -> None:\n",
    "    \"\"\"Trains the model on the given dataset.\"\"\"\n",
    "    \n",
    "    from pathlib import Path\n",
    "    import joblib\n",
    "    \n",
    "    from fancy_fashion.model import train_model\n",
    "    from fancy_fashion.util import local_gcs_path\n",
    "    \n",
    "    trained_model = train_model(local_gcs_path(train_data_path))\n",
    "\n",
    "    model_dir = Path(model.path)\n",
    "    model_dir.mkdir(parents=True, exist_ok=True)\n",
    "    joblib.dump(trained_model, model_dir / \"model.pkl\")\n",
    "\n",
    "\n",
    "@component(\n",
    "    base_image=f\"{GCP_REGION}-docker.pkg.dev/gdd-cb-vertex/docker/fancy-fashion-{USER_NAME}\",\n",
    "    output_component_file=\"_artifacts/evaluate.yaml\",\n",
    ")\n",
    "def evaluate(\n",
    "    test_data_path: str, model: InputPath(\"Model\"), metrics: Output[Metrics]\n",
    ") -> NamedTuple(\"Outputs\", [(\"loss\", float), (\"accuracy\", float)]):\n",
    "    # Exercise 3\n",
    "    from pathlib import Path\n",
    "    import joblib\n",
    "    \n",
    "    from fancy_fashion.model import evaluate_model\n",
    "    from fancy_fashion.util import local_gcs_path\n",
    "    \n",
    "    model = joblib.load(Path(model) / \"model.pkl\")\n",
    "    \n",
    "    loss, accuracy = evaluate_model(model, local_gcs_path(test_data_path))\n",
    "\n",
    "    metrics.log_metric(\"loss\", loss)\n",
    "    metrics.log_metric(\"accuracy\", accuracy)\n",
    "\n",
    "\n",
    "@component(\n",
    "    base_image=f\"{GCP_REGION}-docker.pkg.dev/gdd-cb-vertex/docker/fancy-fashion-{USER_NAME}\",\n",
    "    output_component_file=\"_artifacts/predict.yaml\",\n",
    ")\n",
    "def predict(\n",
    "    validation_data_path: str, model: InputPath(\"Model\"), predictions: Output[Dataset]\n",
    ") -> NamedTuple(\"Outputs\", [(\"loss\", float), (\"accuracy\", float)]):\n",
    "    from pathlib import Path\n",
    "    import joblib\n",
    "    \n",
    "    import pandas as pd\n",
    "\n",
    "    from fancy_fashion.model import generate_predictions\n",
    "    from fancy_fashion.util import local_gcs_path\n",
    "    \n",
    "    model = joblib.load(Path(model) / \"model.pkl\")\n",
    "\n",
    "    predicted = generate_predictions(model, local_gcs_path(validation_data_path))\n",
    "    \n",
    "    predictions_dir = Path(predictions.path)\n",
    "    predictions_dir.mkdir(parents=True, exist_ok=True)\n",
    "    pd.DataFrame.from_records(predicted).to_parquet(predictions_dir / \"predictions.parquet\")\n",
    "    \n",
    "\n",
    "@kfp.dsl.pipeline(name=\"fancy-fashion-julian\")\n",
    "def pipeline(train_path: str, test_path: str, validation_path: str):\n",
    "    train_task = train(train_path)\n",
    "    evaluate_task = evaluate(test_path, train_task.outputs[\"model\"]) \n",
    "    predict_task = predict(validation_path, train_task.outputs[\"model\"])\n",
    "    predict_task.after(evaluate_task)"
   ]
  },
  {
   "cell_type": "code",
   "execution_count": null,
   "metadata": {},
   "outputs": [],
   "source": [
    "from kfp.v2 import compiler\n",
    "\n",
    "compiler.Compiler().compile(\n",
    "    pipeline_func=pipeline,\n",
    "    package_path=\"_artifacts/pipeline.json\",\n",
    ")"
   ]
  },
  {
   "cell_type": "code",
   "execution_count": null,
   "metadata": {},
   "outputs": [],
   "source": [
    "from google.cloud.aiplatform.pipeline_jobs import PipelineJob\n",
    "\n",
    "job = PipelineJob(\n",
    "    display_name=f\"fancy-fashion-{USER_NAME}\",\n",
    "    enable_caching=False,\n",
    "    template_path=\"_artifacts/pipeline.json\",\n",
    "    parameter_values={\n",
    "        \"train_path\": \"gs://gdd-cb-vertex-fashion-inputs/train\",\n",
    "        \"test_path\": \"gs://gdd-cb-vertex-fashion-inputs/test\",\n",
    "        \"validation_path\": \"gs://gdd-cb-vertex-fashion-inputs/validation\"\n",
    "    },\n",
    "    pipeline_root=f\"gs://gdd-cb-vertex-fashion-artifacts/pipelines\",\n",
    "    location=GCP_REGION,\n",
    ")\n",
    "\n",
    "job.run(\n",
    "    service_account=f\"vmd-fashion@gdd-cb-vertex.iam.gserviceaccount.com\"\n",
    ")"
   ]
  }
 ],
 "metadata": {
  "interpreter": {
   "hash": "b31a1157ff87d8f3b769f2578b589bc4be18b32e8ba7e750b8fb43ec98b328f9"
  },
  "kernelspec": {
   "display_name": "Python 3.9.9 ('.venv': poetry)",
   "language": "python",
   "name": "python3"
  },
  "language_info": {
   "codemirror_mode": {
    "name": "ipython",
    "version": 3
   },
   "file_extension": ".py",
   "mimetype": "text/x-python",
   "name": "python",
   "nbconvert_exporter": "python",
   "pygments_lexer": "ipython3",
   "version": "3.9.9"
  }
 },
 "nbformat": 4,
 "nbformat_minor": 2
}
