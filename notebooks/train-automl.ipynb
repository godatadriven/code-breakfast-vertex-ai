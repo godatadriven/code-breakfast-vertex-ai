{
 "cells": [
  {
   "cell_type": "markdown",
   "id": "fc1a7d6a-1a3c-4c4e-8fb7-5f49674e1d13",
   "metadata": {},
   "source": [
    "# Training with AutoML\n",
    "\n",
    "Exercise:\n",
    "* Generate a CSV describing the dataset and upload the file to the inputs bucket\n",
    "* Create a dataset in the UI using your dataset file\n",
    "* Train a model using AutoML (max 1 hour, please only do this once)\n",
    "* Deploy the trained model to an endpoint\n",
    "* Submit some test samples to test the endpoint\n",
    "\n",
    "Bonus:\n",
    "* Implement the training + deployment of the model with AutoML as a Vertex Pipeline (see here for an example: https://cloud.google.com/vertex-ai/docs/pipelines/build-pipeline). "
   ]
  },
  {
   "cell_type": "code",
   "execution_count": null,
   "id": "0d381678-fd5b-4504-b43a-44aac1ff45eb",
   "metadata": {},
   "outputs": [],
   "source": [
    "from dataclasses import dataclass\n",
    "from typing import Iterable\n",
    "\n",
    "from google.cloud.storage import Client\n",
    "\n",
    "@dataclass\n",
    "class DatasetItem:\n",
    "    ml_use: str  # How item should be used in the model (should be TRAINING or TEST).\n",
    "    url: str     # GCS url to the image (e.g. gs://<bucket>/path/to/image.jpg).\n",
    "    label: str   # Label of the image (e.g. bag, sneaker).\n",
    "    \n",
    "\n",
    "ML_USE_MAP = {\n",
    "    \"train\": \"TRAINING\",\n",
    "    \"test\": \"TEST\"\n",
    "}\n",
    "\n",
    "def generate_items_from_bucket(bucket_name: str) -> Iterable[DatasetItem]:\n",
    "    \"\"\"\n",
    "    Generates a list of train/test dataset items from the given bucket.\n",
    "    \"\"\"\n",
    "    \n",
    "    client = Client()\n",
    "\n",
    "    for blob in client.list_blobs(bucket_name):\n",
    "        if (blob.name.startswith(\"train\") or blob.name.startswith(\"test\")) and blob.name.endswith(\".jpg\"):\n",
    "            ml_use, label, _ = blob.name.split(\"/\")\n",
    "            url = f\"gs://{bucket_name}/{blob.name}\"\n",
    "            yield DatasetItem(ml_use=ML_USE_MAP[ml_use], url=url, label=label)\n",
    "            \n",
    "# Should return something like:\n",
    "#   DatasetItem(ml_use='TEST', url='gs://gdd-cb-vertex-fashion-inputs/test/bag/bag0.jpg', label='bag')\n",
    "next(generate_items(\"gdd-cb-vertex-fashion-inputs\"))"
   ]
  },
  {
   "cell_type": "code",
   "execution_count": null,
   "id": "2c49c3a2-b571-4653-910c-db70735fc6fa",
   "metadata": {},
   "outputs": [],
   "source": [
    "import csv\n",
    "\n",
    "def write_items_to_csv(dataset_items: Iterable[DatasetItem], output_path: Path):\n",
    "    with open(output_path, \"w\", encoding=\"utf-8\") as file_:\n",
    "        writer = csv.writer(file_, quoting=csv.QUOTE_MINIMAL)\n",
    "\n",
    "        for item in dataset_items:\n",
    "            writer.writerow([item.ml_use, item.url, item.label])\n",
    "            \n",
    "write_items_to_csv(\n",
    "    generate_items_from_bucket(\"gdd-cb-vertex-fashion-inputs\"),\n",
    "    output_path=\"fashion_dataset.csv\"\n",
    ")"
   ]
  },
  {
   "cell_type": "code",
   "execution_count": null,
   "id": "8af4fc18-ab31-4b2e-b64e-e8643083477f",
   "metadata": {},
   "outputs": [],
   "source": [
    "! tail fashion_dataset.csv"
   ]
  },
  {
   "cell_type": "code",
   "execution_count": null,
   "id": "90af3a49-5b37-4007-99d8-fa6aefc065a1",
   "metadata": {},
   "outputs": [],
   "source": [
    "! gsutil cp fashion_dataset.csv gs://gdd-cb-vertex-fashion-inputs"
   ]
  }
 ],
 "metadata": {
  "environment": {
   "kernel": "poetry-kernel",
   "name": "common-cpu.m91",
   "type": "gcloud",
   "uri": "gcr.io/deeplearning-platform-release/base-cpu:m91"
  },
  "kernelspec": {
   "display_name": "Poetry",
   "language": "python",
   "name": "poetry-kernel"
  },
  "language_info": {
   "codemirror_mode": {
    "name": "ipython",
    "version": 3
   },
   "file_extension": ".py",
   "mimetype": "text/x-python",
   "name": "python",
   "nbconvert_exporter": "python",
   "pygments_lexer": "ipython3",
   "version": "3.9.9"
  }
 },
 "nbformat": 4,
 "nbformat_minor": 5
}
