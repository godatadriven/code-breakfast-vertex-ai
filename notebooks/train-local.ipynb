{
 "cells": [
  {
   "cell_type": "markdown",
   "id": "bf9e0930-9f3a-4008-a214-7e4e325ab40d",
   "metadata": {},
   "source": [
    "# Training locally (on the VM)\n",
    "\n",
    "In this notebook, "
   ]
  },
  {
   "cell_type": "code",
   "execution_count": null,
   "id": "55e55a97-b2db-4bb7-bc99-23ff1edc3d86",
   "metadata": {},
   "outputs": [],
   "source": [
    "# Copy training data locally (run once).\n",
    "#! mkdir -p ~/tmp/fashion\n",
    "#! gsutil cp -r gs://gdd-cb-vertex-fashion-inputs/train ~/tmp/fashion"
   ]
  },
  {
   "cell_type": "code",
   "execution_count": null,
   "id": "836c049e-dd1c-491e-addc-07ded754bec2",
   "metadata": {},
   "outputs": [],
   "source": [
    "from fancy_fashion.model import train_model\n",
    "\n",
    "model = train_model(\"/home/jupyter/tmp/fashion/train\")"
   ]
  },
  {
   "cell_type": "code",
   "execution_count": null,
   "id": "d6152e66-4848-4608-b1fa-4bd0b4eefce5",
   "metadata": {},
   "outputs": [],
   "source": [
    "! mkdir -p ~/tmp/fashion\n",
    "! gsutil cp -r gs://gdd-cb-vertex-fashion-inputs/test ~/tmp/fashion"
   ]
  },
  {
   "cell_type": "code",
   "execution_count": null,
   "id": "c03db5b5-a6f0-4810-961a-21f35b4104c9",
   "metadata": {},
   "outputs": [],
   "source": [
    "from fancy_fashion.model import evaluate_model\n",
    "\n",
    "loss, accuracy = evaluate_model(model, \"/home/jupyter/tmp/fashion/test\")\n",
    "\n",
    "print(f\"Loss: {loss}\")\n",
    "print(f\"Accuracy: {accuracy}\")"
   ]
  }
 ],
 "metadata": {
  "environment": {
   "kernel": "poetry-kernel",
   "name": "common-cpu.m91",
   "type": "gcloud",
   "uri": "gcr.io/deeplearning-platform-release/base-cpu:m91"
  },
  "kernelspec": {
   "display_name": "Poetry",
   "language": "python",
   "name": "poetry-kernel"
  },
  "language_info": {
   "codemirror_mode": {
    "name": "ipython",
    "version": 3
   },
   "file_extension": ".py",
   "mimetype": "text/x-python",
   "name": "python",
   "nbconvert_exporter": "python",
   "pygments_lexer": "ipython3",
   "version": "3.9.9"
  }
 },
 "nbformat": 4,
 "nbformat_minor": 5
}
